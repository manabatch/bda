{
  "nbformat": 4,
  "nbformat_minor": 0,
  "metadata": {
    "colab": {
      "provenance": []
    },
    "kernelspec": {
      "name": "python3",
      "display_name": "Python 3"
    },
    "language_info": {
      "name": "python"
    }
  },
  "cells": [
    {
      "cell_type": "code",
      "source": [
        "pip install pyspark"
      ],
      "metadata": {
        "colab": {
          "base_uri": "https://localhost:8080/"
        },
        "id": "l_regPMTxytJ",
        "outputId": "70d2a9fe-fcb7-478c-8000-14d1c937b511"
      },
      "execution_count": null,
      "outputs": [
        {
          "output_type": "stream",
          "name": "stdout",
          "text": [
            "Collecting pyspark\n",
            "  Downloading pyspark-3.5.0.tar.gz (316.9 MB)\n",
            "\u001b[2K     \u001b[90m━━━━━━━━━━━━━━━━━━━━━━━━━━━━━━━━━━━━━━━━\u001b[0m \u001b[32m316.9/316.9 MB\u001b[0m \u001b[31m2.6 MB/s\u001b[0m eta \u001b[36m0:00:00\u001b[0m\n",
            "\u001b[?25h  Preparing metadata (setup.py) ... \u001b[?25l\u001b[?25hdone\n",
            "Requirement already satisfied: py4j==0.10.9.7 in /usr/local/lib/python3.10/dist-packages (from pyspark) (0.10.9.7)\n",
            "Building wheels for collected packages: pyspark\n",
            "  Building wheel for pyspark (setup.py) ... \u001b[?25l\u001b[?25hdone\n",
            "  Created wheel for pyspark: filename=pyspark-3.5.0-py2.py3-none-any.whl size=317425344 sha256=0d082275199321030f85ad035adfab0a04dd39900257fc84d75a2af64f514b28\n",
            "  Stored in directory: /root/.cache/pip/wheels/41/4e/10/c2cf2467f71c678cfc8a6b9ac9241e5e44a01940da8fbb17fc\n",
            "Successfully built pyspark\n",
            "Installing collected packages: pyspark\n",
            "Successfully installed pyspark-3.5.0\n"
          ]
        }
      ]
    },
    {
      "cell_type": "code",
      "source": [
        "#DBSCAN\n",
        "import pyspark\n",
        "from pyspark.sql import SparkSession\n",
        "\n",
        "spark=SparkSession.builder.appName('testmodel').getOrCreate()\n",
        "\n",
        "df=spark.read.csv('irisC.csv',inferSchema=True,header=True)\n",
        "df.show(10)"
      ],
      "metadata": {
        "colab": {
          "base_uri": "https://localhost:8080/"
        },
        "id": "kqMY9L5ILcuK",
        "outputId": "26dd8745-f7b1-4355-ba81-b52b9b2366c2"
      },
      "execution_count": null,
      "outputs": [
        {
          "output_type": "stream",
          "name": "stdout",
          "text": [
            "+------------+-----------+-----------+\n",
            "|Sepal Length|Sepal Width|    Species|\n",
            "+------------+-----------+-----------+\n",
            "|         5.1|        3.5|Iris-setosa|\n",
            "|         4.9|        3.0|Iris-setosa|\n",
            "|         4.7|        3.2|Iris-setosa|\n",
            "|         4.6|        3.1|Iris-setosa|\n",
            "|         5.0|        3.6|Iris-setosa|\n",
            "|         5.4|        3.9|Iris-setosa|\n",
            "|         4.6|        3.4|Iris-setosa|\n",
            "|         5.0|        3.4|Iris-setosa|\n",
            "|         4.4|        2.9|Iris-setosa|\n",
            "|         4.9|        3.1|Iris-setosa|\n",
            "+------------+-----------+-----------+\n",
            "only showing top 10 rows\n",
            "\n"
          ]
        }
      ]
    },
    {
      "cell_type": "code",
      "source": [
        "df.printSchema()"
      ],
      "metadata": {
        "colab": {
          "base_uri": "https://localhost:8080/"
        },
        "id": "4IwgBlCvMDe7",
        "outputId": "a09640bb-7804-4dd1-f497-5c4e4edb2d5d"
      },
      "execution_count": null,
      "outputs": [
        {
          "output_type": "stream",
          "name": "stdout",
          "text": [
            "root\n",
            " |-- Sepal Length: double (nullable = true)\n",
            " |-- Sepal Width: double (nullable = true)\n",
            " |-- Species: string (nullable = true)\n",
            "\n"
          ]
        }
      ]
    },
    {
      "cell_type": "code",
      "source": [
        "from pyspark.ml.linalg import Vectors\n",
        "from pyspark.ml.feature import VectorAssembler\n",
        "\n",
        "assembler=VectorAssembler(inputCols=['Sepal Length','Sepal Width'],outputCol='features')\n",
        "output=assembler.transform(df)\n",
        "output.select('features').show(5)"
      ],
      "metadata": {
        "colab": {
          "base_uri": "https://localhost:8080/"
        },
        "id": "OnmWLjKkLcM0",
        "outputId": "d5c7d9d5-f6d3-418a-a23e-faaabca95fc0"
      },
      "execution_count": null,
      "outputs": [
        {
          "output_type": "stream",
          "name": "stdout",
          "text": [
            "+---------+\n",
            "| features|\n",
            "+---------+\n",
            "|[5.1,3.5]|\n",
            "|[4.9,3.0]|\n",
            "|[4.7,3.2]|\n",
            "|[4.6,3.1]|\n",
            "|[5.0,3.6]|\n",
            "+---------+\n",
            "only showing top 5 rows\n",
            "\n"
          ]
        }
      ]
    },
    {
      "cell_type": "code",
      "source": [
        "final_data=output.select('features','Species')\n",
        "train_data,test_data=final_data.randomSplit([0.7,0.3])\n",
        "train_data.describe().show()"
      ],
      "metadata": {
        "colab": {
          "base_uri": "https://localhost:8080/"
        },
        "id": "9aVJFanALfJV",
        "outputId": "6753feb6-c6ab-4464-ee15-6d2a632ab677"
      },
      "execution_count": null,
      "outputs": [
        {
          "output_type": "stream",
          "name": "stdout",
          "text": [
            "+-------+--------------+\n",
            "|summary|       Species|\n",
            "+-------+--------------+\n",
            "|  count|           104|\n",
            "|   mean|          NULL|\n",
            "| stddev|          NULL|\n",
            "|    min|   Iris-setosa|\n",
            "|    max|Iris-virginica|\n",
            "+-------+--------------+\n",
            "\n"
          ]
        }
      ]
    },
    {
      "cell_type": "code",
      "source": [
        "import numpy as np\n",
        "np.array(final_data.select('features'))"
      ],
      "metadata": {
        "colab": {
          "base_uri": "https://localhost:8080/"
        },
        "id": "6nUXXdWYLh4L",
        "outputId": "66f2c6a7-d888-4b7e-8c2c-526852fcc708"
      },
      "execution_count": null,
      "outputs": [
        {
          "output_type": "execute_result",
          "data": {
            "text/plain": [
              "array(DataFrame[features: vector], dtype=object)"
            ]
          },
          "metadata": {},
          "execution_count": 22
        }
      ]
    },
    {
      "cell_type": "code",
      "source": [
        "pandas_df = final_data.toPandas()\n",
        "pandas_df.head()"
      ],
      "metadata": {
        "colab": {
          "base_uri": "https://localhost:8080/",
          "height": 206
        },
        "id": "rLziDM7yLlTR",
        "outputId": "5d444688-8e97-4d55-f4be-fc8f18f41618"
      },
      "execution_count": null,
      "outputs": [
        {
          "output_type": "execute_result",
          "data": {
            "text/plain": [
              "     features      Species\n",
              "0  [5.1, 3.5]  Iris-setosa\n",
              "1  [4.9, 3.0]  Iris-setosa\n",
              "2  [4.7, 3.2]  Iris-setosa\n",
              "3  [4.6, 3.1]  Iris-setosa\n",
              "4  [5.0, 3.6]  Iris-setosa"
            ],
            "text/html": [
              "\n",
              "  <div id=\"df-86ceb0a4-3194-4dc4-8908-c120f3b039fe\" class=\"colab-df-container\">\n",
              "    <div>\n",
              "<style scoped>\n",
              "    .dataframe tbody tr th:only-of-type {\n",
              "        vertical-align: middle;\n",
              "    }\n",
              "\n",
              "    .dataframe tbody tr th {\n",
              "        vertical-align: top;\n",
              "    }\n",
              "\n",
              "    .dataframe thead th {\n",
              "        text-align: right;\n",
              "    }\n",
              "</style>\n",
              "<table border=\"1\" class=\"dataframe\">\n",
              "  <thead>\n",
              "    <tr style=\"text-align: right;\">\n",
              "      <th></th>\n",
              "      <th>features</th>\n",
              "      <th>Species</th>\n",
              "    </tr>\n",
              "  </thead>\n",
              "  <tbody>\n",
              "    <tr>\n",
              "      <th>0</th>\n",
              "      <td>[5.1, 3.5]</td>\n",
              "      <td>Iris-setosa</td>\n",
              "    </tr>\n",
              "    <tr>\n",
              "      <th>1</th>\n",
              "      <td>[4.9, 3.0]</td>\n",
              "      <td>Iris-setosa</td>\n",
              "    </tr>\n",
              "    <tr>\n",
              "      <th>2</th>\n",
              "      <td>[4.7, 3.2]</td>\n",
              "      <td>Iris-setosa</td>\n",
              "    </tr>\n",
              "    <tr>\n",
              "      <th>3</th>\n",
              "      <td>[4.6, 3.1]</td>\n",
              "      <td>Iris-setosa</td>\n",
              "    </tr>\n",
              "    <tr>\n",
              "      <th>4</th>\n",
              "      <td>[5.0, 3.6]</td>\n",
              "      <td>Iris-setosa</td>\n",
              "    </tr>\n",
              "  </tbody>\n",
              "</table>\n",
              "</div>\n",
              "    <div class=\"colab-df-buttons\">\n",
              "\n",
              "  <div class=\"colab-df-container\">\n",
              "    <button class=\"colab-df-convert\" onclick=\"convertToInteractive('df-86ceb0a4-3194-4dc4-8908-c120f3b039fe')\"\n",
              "            title=\"Convert this dataframe to an interactive table.\"\n",
              "            style=\"display:none;\">\n",
              "\n",
              "  <svg xmlns=\"http://www.w3.org/2000/svg\" height=\"24px\" viewBox=\"0 -960 960 960\">\n",
              "    <path d=\"M120-120v-720h720v720H120Zm60-500h600v-160H180v160Zm220 220h160v-160H400v160Zm0 220h160v-160H400v160ZM180-400h160v-160H180v160Zm440 0h160v-160H620v160ZM180-180h160v-160H180v160Zm440 0h160v-160H620v160Z\"/>\n",
              "  </svg>\n",
              "    </button>\n",
              "\n",
              "  <style>\n",
              "    .colab-df-container {\n",
              "      display:flex;\n",
              "      gap: 12px;\n",
              "    }\n",
              "\n",
              "    .colab-df-convert {\n",
              "      background-color: #E8F0FE;\n",
              "      border: none;\n",
              "      border-radius: 50%;\n",
              "      cursor: pointer;\n",
              "      display: none;\n",
              "      fill: #1967D2;\n",
              "      height: 32px;\n",
              "      padding: 0 0 0 0;\n",
              "      width: 32px;\n",
              "    }\n",
              "\n",
              "    .colab-df-convert:hover {\n",
              "      background-color: #E2EBFA;\n",
              "      box-shadow: 0px 1px 2px rgba(60, 64, 67, 0.3), 0px 1px 3px 1px rgba(60, 64, 67, 0.15);\n",
              "      fill: #174EA6;\n",
              "    }\n",
              "\n",
              "    .colab-df-buttons div {\n",
              "      margin-bottom: 4px;\n",
              "    }\n",
              "\n",
              "    [theme=dark] .colab-df-convert {\n",
              "      background-color: #3B4455;\n",
              "      fill: #D2E3FC;\n",
              "    }\n",
              "\n",
              "    [theme=dark] .colab-df-convert:hover {\n",
              "      background-color: #434B5C;\n",
              "      box-shadow: 0px 1px 3px 1px rgba(0, 0, 0, 0.15);\n",
              "      filter: drop-shadow(0px 1px 2px rgba(0, 0, 0, 0.3));\n",
              "      fill: #FFFFFF;\n",
              "    }\n",
              "  </style>\n",
              "\n",
              "    <script>\n",
              "      const buttonEl =\n",
              "        document.querySelector('#df-86ceb0a4-3194-4dc4-8908-c120f3b039fe button.colab-df-convert');\n",
              "      buttonEl.style.display =\n",
              "        google.colab.kernel.accessAllowed ? 'block' : 'none';\n",
              "\n",
              "      async function convertToInteractive(key) {\n",
              "        const element = document.querySelector('#df-86ceb0a4-3194-4dc4-8908-c120f3b039fe');\n",
              "        const dataTable =\n",
              "          await google.colab.kernel.invokeFunction('convertToInteractive',\n",
              "                                                    [key], {});\n",
              "        if (!dataTable) return;\n",
              "\n",
              "        const docLinkHtml = 'Like what you see? Visit the ' +\n",
              "          '<a target=\"_blank\" href=https://colab.research.google.com/notebooks/data_table.ipynb>data table notebook</a>'\n",
              "          + ' to learn more about interactive tables.';\n",
              "        element.innerHTML = '';\n",
              "        dataTable['output_type'] = 'display_data';\n",
              "        await google.colab.output.renderOutput(dataTable, element);\n",
              "        const docLink = document.createElement('div');\n",
              "        docLink.innerHTML = docLinkHtml;\n",
              "        element.appendChild(docLink);\n",
              "      }\n",
              "    </script>\n",
              "  </div>\n",
              "\n",
              "\n",
              "<div id=\"df-4f72ede2-c365-413d-90f6-aee325a542d7\">\n",
              "  <button class=\"colab-df-quickchart\" onclick=\"quickchart('df-4f72ede2-c365-413d-90f6-aee325a542d7')\"\n",
              "            title=\"Suggest charts.\"\n",
              "            style=\"display:none;\">\n",
              "\n",
              "<svg xmlns=\"http://www.w3.org/2000/svg\" height=\"24px\"viewBox=\"0 0 24 24\"\n",
              "     width=\"24px\">\n",
              "    <g>\n",
              "        <path d=\"M19 3H5c-1.1 0-2 .9-2 2v14c0 1.1.9 2 2 2h14c1.1 0 2-.9 2-2V5c0-1.1-.9-2-2-2zM9 17H7v-7h2v7zm4 0h-2V7h2v10zm4 0h-2v-4h2v4z\"/>\n",
              "    </g>\n",
              "</svg>\n",
              "  </button>\n",
              "\n",
              "<style>\n",
              "  .colab-df-quickchart {\n",
              "      --bg-color: #E8F0FE;\n",
              "      --fill-color: #1967D2;\n",
              "      --hover-bg-color: #E2EBFA;\n",
              "      --hover-fill-color: #174EA6;\n",
              "      --disabled-fill-color: #AAA;\n",
              "      --disabled-bg-color: #DDD;\n",
              "  }\n",
              "\n",
              "  [theme=dark] .colab-df-quickchart {\n",
              "      --bg-color: #3B4455;\n",
              "      --fill-color: #D2E3FC;\n",
              "      --hover-bg-color: #434B5C;\n",
              "      --hover-fill-color: #FFFFFF;\n",
              "      --disabled-bg-color: #3B4455;\n",
              "      --disabled-fill-color: #666;\n",
              "  }\n",
              "\n",
              "  .colab-df-quickchart {\n",
              "    background-color: var(--bg-color);\n",
              "    border: none;\n",
              "    border-radius: 50%;\n",
              "    cursor: pointer;\n",
              "    display: none;\n",
              "    fill: var(--fill-color);\n",
              "    height: 32px;\n",
              "    padding: 0;\n",
              "    width: 32px;\n",
              "  }\n",
              "\n",
              "  .colab-df-quickchart:hover {\n",
              "    background-color: var(--hover-bg-color);\n",
              "    box-shadow: 0 1px 2px rgba(60, 64, 67, 0.3), 0 1px 3px 1px rgba(60, 64, 67, 0.15);\n",
              "    fill: var(--button-hover-fill-color);\n",
              "  }\n",
              "\n",
              "  .colab-df-quickchart-complete:disabled,\n",
              "  .colab-df-quickchart-complete:disabled:hover {\n",
              "    background-color: var(--disabled-bg-color);\n",
              "    fill: var(--disabled-fill-color);\n",
              "    box-shadow: none;\n",
              "  }\n",
              "\n",
              "  .colab-df-spinner {\n",
              "    border: 2px solid var(--fill-color);\n",
              "    border-color: transparent;\n",
              "    border-bottom-color: var(--fill-color);\n",
              "    animation:\n",
              "      spin 1s steps(1) infinite;\n",
              "  }\n",
              "\n",
              "  @keyframes spin {\n",
              "    0% {\n",
              "      border-color: transparent;\n",
              "      border-bottom-color: var(--fill-color);\n",
              "      border-left-color: var(--fill-color);\n",
              "    }\n",
              "    20% {\n",
              "      border-color: transparent;\n",
              "      border-left-color: var(--fill-color);\n",
              "      border-top-color: var(--fill-color);\n",
              "    }\n",
              "    30% {\n",
              "      border-color: transparent;\n",
              "      border-left-color: var(--fill-color);\n",
              "      border-top-color: var(--fill-color);\n",
              "      border-right-color: var(--fill-color);\n",
              "    }\n",
              "    40% {\n",
              "      border-color: transparent;\n",
              "      border-right-color: var(--fill-color);\n",
              "      border-top-color: var(--fill-color);\n",
              "    }\n",
              "    60% {\n",
              "      border-color: transparent;\n",
              "      border-right-color: var(--fill-color);\n",
              "    }\n",
              "    80% {\n",
              "      border-color: transparent;\n",
              "      border-right-color: var(--fill-color);\n",
              "      border-bottom-color: var(--fill-color);\n",
              "    }\n",
              "    90% {\n",
              "      border-color: transparent;\n",
              "      border-bottom-color: var(--fill-color);\n",
              "    }\n",
              "  }\n",
              "</style>\n",
              "\n",
              "  <script>\n",
              "    async function quickchart(key) {\n",
              "      const quickchartButtonEl =\n",
              "        document.querySelector('#' + key + ' button');\n",
              "      quickchartButtonEl.disabled = true;  // To prevent multiple clicks.\n",
              "      quickchartButtonEl.classList.add('colab-df-spinner');\n",
              "      try {\n",
              "        const charts = await google.colab.kernel.invokeFunction(\n",
              "            'suggestCharts', [key], {});\n",
              "      } catch (error) {\n",
              "        console.error('Error during call to suggestCharts:', error);\n",
              "      }\n",
              "      quickchartButtonEl.classList.remove('colab-df-spinner');\n",
              "      quickchartButtonEl.classList.add('colab-df-quickchart-complete');\n",
              "    }\n",
              "    (() => {\n",
              "      let quickchartButtonEl =\n",
              "        document.querySelector('#df-4f72ede2-c365-413d-90f6-aee325a542d7 button');\n",
              "      quickchartButtonEl.style.display =\n",
              "        google.colab.kernel.accessAllowed ? 'block' : 'none';\n",
              "    })();\n",
              "  </script>\n",
              "</div>\n",
              "    </div>\n",
              "  </div>\n"
            ]
          },
          "metadata": {},
          "execution_count": 23
        }
      ]
    },
    {
      "cell_type": "code",
      "source": [
        "from sklearn.cluster import DBSCAN\n",
        "dbscan = DBSCAN(eps=0.6, min_samples=3)\n",
        "dbscan_labels = dbscan.fit_predict(pandas_df['features'].tolist())\n",
        "print(dbscan_labels)"
      ],
      "metadata": {
        "colab": {
          "base_uri": "https://localhost:8080/"
        },
        "id": "H-iTNH0yLmJE",
        "outputId": "b2557c20-1746-433d-eae3-fd191c4f96bd"
      },
      "execution_count": null,
      "outputs": [
        {
          "output_type": "stream",
          "name": "stdout",
          "text": [
            "[0 0 0 0 0 0 0 0 0 0 0 0 0 0 0 0 0 0 0 0 0 0 0 0 0 0 0 0 0 0 0 0 0 0 0 0 0\n",
            " 0 0 0 0 0 0 0 0 0 0 0 0 0 0 0 0 0 0 0 0 0 0 0 0 0 0 0 0 0 0 0 0 0 0 0 0 0\n",
            " 0 0 0 0 0 0 0 0 0 0 0 0 0 0 0 0 0 0 0 0 0 0 0 0 0 0 0 0 0 0 0 0 0 0 0 0 0\n",
            " 0 0 0 0 0 0 0 0 0 0 0 0 0 0 0 0 0 0 0 0 0 0 0 0 0 0 0 0 0 0 0 0 0 0 0 0 0\n",
            " 0 0]\n"
          ]
        }
      ]
    },
    {
      "cell_type": "code",
      "source": [
        "X=output.select('Sepal Length').toPandas()\n",
        "Y=output.select('Sepal Width').toPandas()\n",
        "np.array(X)"
      ],
      "metadata": {
        "colab": {
          "base_uri": "https://localhost:8080/"
        },
        "id": "N9ph6PVbLulq",
        "outputId": "4eb40079-2661-4d74-d567-88b9671bbf9c"
      },
      "execution_count": null,
      "outputs": [
        {
          "output_type": "execute_result",
          "data": {
            "text/plain": [
              "array([[5.1],\n",
              "       [4.9],\n",
              "       [4.7],\n",
              "       [4.6],\n",
              "       [5. ],\n",
              "       [5.4],\n",
              "       [4.6],\n",
              "       [5. ],\n",
              "       [4.4],\n",
              "       [4.9],\n",
              "       [5.4],\n",
              "       [4.8],\n",
              "       [4.8],\n",
              "       [4.3],\n",
              "       [5.8],\n",
              "       [5.7],\n",
              "       [5.4],\n",
              "       [5.1],\n",
              "       [5.7],\n",
              "       [5.1],\n",
              "       [5.4],\n",
              "       [5.1],\n",
              "       [4.6],\n",
              "       [5.1],\n",
              "       [4.8],\n",
              "       [5. ],\n",
              "       [5. ],\n",
              "       [5.2],\n",
              "       [5.2],\n",
              "       [4.7],\n",
              "       [4.8],\n",
              "       [5.4],\n",
              "       [5.2],\n",
              "       [5.5],\n",
              "       [4.9],\n",
              "       [5. ],\n",
              "       [5.5],\n",
              "       [4.9],\n",
              "       [4.4],\n",
              "       [5.1],\n",
              "       [5. ],\n",
              "       [4.5],\n",
              "       [4.4],\n",
              "       [5. ],\n",
              "       [5.1],\n",
              "       [4.8],\n",
              "       [5.1],\n",
              "       [4.6],\n",
              "       [5.3],\n",
              "       [5. ],\n",
              "       [7. ],\n",
              "       [6.4],\n",
              "       [6.9],\n",
              "       [5.5],\n",
              "       [6.5],\n",
              "       [5.7],\n",
              "       [6.3],\n",
              "       [4.9],\n",
              "       [6.6],\n",
              "       [5.2],\n",
              "       [5. ],\n",
              "       [5.9],\n",
              "       [6. ],\n",
              "       [6.1],\n",
              "       [5.6],\n",
              "       [6.7],\n",
              "       [5.6],\n",
              "       [5.8],\n",
              "       [6.2],\n",
              "       [5.6],\n",
              "       [5.9],\n",
              "       [6.1],\n",
              "       [6.3],\n",
              "       [6.1],\n",
              "       [6.4],\n",
              "       [6.6],\n",
              "       [6.8],\n",
              "       [6.7],\n",
              "       [6. ],\n",
              "       [5.7],\n",
              "       [5.5],\n",
              "       [5.5],\n",
              "       [5.8],\n",
              "       [6. ],\n",
              "       [5.4],\n",
              "       [6. ],\n",
              "       [6.7],\n",
              "       [6.3],\n",
              "       [5.6],\n",
              "       [5.5],\n",
              "       [5.5],\n",
              "       [6.1],\n",
              "       [5.8],\n",
              "       [5. ],\n",
              "       [5.6],\n",
              "       [5.7],\n",
              "       [5.7],\n",
              "       [6.2],\n",
              "       [5.1],\n",
              "       [5.7],\n",
              "       [6.3],\n",
              "       [5.8],\n",
              "       [7.1],\n",
              "       [6.3],\n",
              "       [6.5],\n",
              "       [7.6],\n",
              "       [4.9],\n",
              "       [7.3],\n",
              "       [6.7],\n",
              "       [7.2],\n",
              "       [6.5],\n",
              "       [6.4],\n",
              "       [6.8],\n",
              "       [5.7],\n",
              "       [5.8],\n",
              "       [6.4],\n",
              "       [6.5],\n",
              "       [7.7],\n",
              "       [7.7],\n",
              "       [6. ],\n",
              "       [6.9],\n",
              "       [5.6],\n",
              "       [7.7],\n",
              "       [6.3],\n",
              "       [6.7],\n",
              "       [7.2],\n",
              "       [6.2],\n",
              "       [6.1],\n",
              "       [6.4],\n",
              "       [7.2],\n",
              "       [7.4],\n",
              "       [7.9],\n",
              "       [6.4],\n",
              "       [6.3],\n",
              "       [6.1],\n",
              "       [7.7],\n",
              "       [6.3],\n",
              "       [6.4],\n",
              "       [6. ],\n",
              "       [6.9],\n",
              "       [6.7],\n",
              "       [6.9],\n",
              "       [5.8],\n",
              "       [6.8],\n",
              "       [6.7],\n",
              "       [6.7],\n",
              "       [6.3],\n",
              "       [6.5],\n",
              "       [6.2],\n",
              "       [5.9]])"
            ]
          },
          "metadata": {},
          "execution_count": 25
        }
      ]
    },
    {
      "cell_type": "code",
      "source": [
        "import matplotlib.pyplot as plt\n",
        "\n",
        "plt.scatter(np.array(X),np.array(Y),c=dbscan_labels)\n",
        "plt.show()"
      ],
      "metadata": {
        "colab": {
          "base_uri": "https://localhost:8080/",
          "height": 433
        },
        "id": "XdOI10fyLwu4",
        "outputId": "f2417bf6-5ea1-4e5b-fd2c-e53d078ff0fb"
      },
      "execution_count": null,
      "outputs": [
        {
          "output_type": "display_data",
          "data": {
            "text/plain": [
              "<Figure size 640x480 with 1 Axes>"
            ],
            "image/png": "[encoded data removed]"
          },
          "metadata": {}
        }
      ]
    },
    {
      "cell_type": "code",
      "source": [
        "spark.stop()"
      ],
      "metadata": {
        "id": "YrchBRbNL6Gy"
      },
      "execution_count": null,
      "outputs": []
    },
    {
      "cell_type": "code",
      "source": [
        "from pyspark.sql import SparkSession\n",
        "spark = SparkSession.builder.appName('cluster').getOrCreate()\n",
        "print('Spark Version: {}'.format(spark.version))"
      ],
      "metadata": {
        "colab": {
          "base_uri": "https://localhost:8080/"
        },
        "id": "-DBqM_tGHuWK",
        "outputId": "96b19e62-6416-4442-df13-ff1a3c2f1148"
      },
      "execution_count": null,
      "outputs": [
        {
          "output_type": "stream",
          "name": "stdout",
          "text": [
            "Spark Version: 3.5.0\n"
          ]
        }
      ]
    },
    {
      "cell_type": "code",
      "source": [
        "#Loading the data\n",
        "dataset = spark.read.csv(\"seeds_dataset.csv\",header=True,inferSchema=True)\n",
        "\n",
        "#show the data in the above file using the below command\n",
        "dataset.show(5)"
      ],
      "metadata": {
        "colab": {
          "base_uri": "https://localhost:8080/"
        },
        "id": "3xfilnHCHyzq",
        "outputId": "36c7695d-ddaf-4848-b54c-2b01ab7e40b3"
      },
      "execution_count": null,
      "outputs": [
        {
          "output_type": "stream",
          "name": "stdout",
          "text": [
            "+-----+---------+-----------+----------------+---------------+---------------------+----------------------+\n",
            "| Area|Perimeter|Compactness|Length_of_kernel|Width_of_kernel|Asymmetry_coefficient|Length_of_kernel_grove|\n",
            "+-----+---------+-----------+----------------+---------------+---------------------+----------------------+\n",
            "|15.26|    14.84|      0.871|           5.763|          3.312|                2.221|                  5.22|\n",
            "|14.88|    14.57|     0.8811|           5.554|          3.333|                1.018|                 4.956|\n",
            "|14.29|    14.09|      0.905|           5.291|          3.337|                2.699|                 4.825|\n",
            "|13.84|    13.94|     0.8955|           5.324|          3.379|                2.259|                 4.805|\n",
            "|16.14|    14.99|     0.9034|           5.658|          3.562|                1.355|                 5.175|\n",
            "+-----+---------+-----------+----------------+---------------+---------------------+----------------------+\n",
            "only showing top 5 rows\n",
            "\n"
          ]
        }
      ]
    },
    {
      "cell_type": "code",
      "source": [
        "#Print schema\n",
        "dataset.printSchema()"
      ],
      "metadata": {
        "colab": {
          "base_uri": "https://localhost:8080/"
        },
        "id": "q9eY4CCYJWVk",
        "outputId": "01999fee-43dc-44a1-a65a-f75adc0ebe3a"
      },
      "execution_count": null,
      "outputs": [
        {
          "output_type": "stream",
          "name": "stdout",
          "text": [
            "root\n",
            " |-- Area: double (nullable = true)\n",
            " |-- Perimeter: double (nullable = true)\n",
            " |-- Compactness: double (nullable = true)\n",
            " |-- Length_of_kernel: double (nullable = true)\n",
            " |-- Width_of_kernel: double (nullable = true)\n",
            " |-- Asymmetry_coefficient: double (nullable = true)\n",
            " |-- Length_of_kernel_grove: double (nullable = true)\n",
            "\n"
          ]
        }
      ]
    },
    {
      "cell_type": "code",
      "source": [
        "from pyspark.ml.feature import VectorAssembler\n",
        "\n",
        "vec_assembler = VectorAssembler(inputCols = dataset.columns,\n",
        "                                outputCol='features')\n",
        "\n",
        "final_data = vec_assembler.transform(dataset)\n",
        "final_data.select('features').show(5)"
      ],
      "metadata": {
        "colab": {
          "base_uri": "https://localhost:8080/"
        },
        "id": "qyboy6XnJb0K",
        "outputId": "75f183a4-3b52-463b-da81-35bb02aa824e"
      },
      "execution_count": null,
      "outputs": [
        {
          "output_type": "stream",
          "name": "stdout",
          "text": [
            "+--------------------+\n",
            "|            features|\n",
            "+--------------------+\n",
            "|[15.26,14.84,0.87...|\n",
            "|[14.88,14.57,0.88...|\n",
            "|[14.29,14.09,0.90...|\n",
            "|[13.84,13.94,0.89...|\n",
            "|[16.14,14.99,0.90...|\n",
            "+--------------------+\n",
            "only showing top 5 rows\n",
            "\n"
          ]
        }
      ]
    },
    {
      "cell_type": "code",
      "source": [
        "from pyspark.ml.feature import StandardScaler\n",
        "\n",
        "scaler = StandardScaler(inputCol=\"features\",\n",
        "                        outputCol=\"scaledFeatures\",\n",
        "                        withStd=True,\n",
        "                        withMean=False)\n",
        "\n",
        "# Compute summary statistics by fitting the StandardScaler\n",
        "scalerModel = scaler.fit(final_data)\n",
        "\n",
        "# Normalize each feature to have unit standard deviation.\n",
        "final_data = scalerModel.transform(final_data)\n",
        "\n",
        "final_data.select('scaledFeatures').show(5)"
      ],
      "metadata": {
        "colab": {
          "base_uri": "https://localhost:8080/"
        },
        "id": "EL8hYxHOJhyp",
        "outputId": "d785073b-cba5-47c5-824d-7c8649f30122"
      },
      "execution_count": null,
      "outputs": [
        {
          "output_type": "stream",
          "name": "stdout",
          "text": [
            "+--------------------+\n",
            "|      scaledFeatures|\n",
            "+--------------------+\n",
            "|[5.24452795332028...|\n",
            "|[5.11393027165175...|\n",
            "|[4.91116018695588...|\n",
            "|[4.75650503761158...|\n",
            "|[5.54696468981581...|\n",
            "+--------------------+\n",
            "only showing top 5 rows\n",
            "\n"
          ]
        }
      ]
    },
    {
      "cell_type": "code",
      "source": [
        "#Importing the model\n",
        "from pyspark.ml.clustering import KMeans\n",
        "from pyspark.ml.evaluation import ClusteringEvaluator\n",
        "\n",
        "silhouette_score=[]\n",
        "\n",
        "evaluator = ClusteringEvaluator(predictionCol='prediction', featuresCol='scaledFeatures', metricName='silhouette', distanceMeasure='squaredEuclidean')\n",
        "\n",
        "for i in range(2,10):\n",
        "    kmeans=KMeans(featuresCol='scaledFeatures', k=i)\n",
        "    model=kmeans.fit(final_data)\n",
        "    predictions=model.transform(final_data)\n",
        "    score=evaluator.evaluate(predictions)\n",
        "    silhouette_score.append(score)\n",
        "    print('Silhouette Score for k =',i,'is',score)"
      ],
      "metadata": {
        "colab": {
          "base_uri": "https://localhost:8080/"
        },
        "id": "Gyg4le2xJlh3",
        "outputId": "b8eb63c0-9413-4c77-c86a-ce32d1cc59f3"
      },
      "execution_count": null,
      "outputs": [
        {
          "output_type": "stream",
          "name": "stdout",
          "text": [
            "Silhouette Score for k = 2 is 0.6613125038335929\n",
            "Silhouette Score for k = 3 is 0.5959078263451633\n",
            "Silhouette Score for k = 4 is 0.4943210687863144\n",
            "Silhouette Score for k = 5 is 0.4166976682907412\n",
            "Silhouette Score for k = 6 is 0.3648649810130078\n",
            "Silhouette Score for k = 7 is 0.39397743262544\n",
            "Silhouette Score for k = 8 is 0.40573744412356627\n",
            "Silhouette Score for k = 9 is 0.3877256432563701\n"
          ]
        }
      ]
    },
    {
      "cell_type": "code",
      "source": [
        "#Visualizing the silhouette scores in a plot\n",
        "import matplotlib.pyplot as plt\n",
        "\n",
        "plt.plot(range(2,10),silhouette_score)\n",
        "plt.xlabel('k')\n",
        "plt.ylabel('silhouette score')\n",
        "plt.title('Silhouette Score')\n",
        "plt.show()"
      ],
      "metadata": {
        "colab": {
          "base_uri": "https://localhost:8080/",
          "height": 472
        },
        "id": "rGCGcooHKGJt",
        "outputId": "eca78c71-3eb7-474b-bb0f-3cc6b5d9a178"
      },
      "execution_count": null,
      "outputs": [
        {
          "output_type": "display_data",
          "data": {
            "text/plain": [
              "<Figure size 640x480 with 1 Axes>"
            ],
            "image/png": "[encoded data removed]"
          },
          "metadata": {}
        }
      ]
    },
    {
      "cell_type": "code",
      "source": [
        "# Trains a k-means model.\n",
        "kmeans = KMeans(featuresCol='scaledFeatures',k=3)\n",
        "model = kmeans.fit(final_data)\n",
        "predictions = model.transform(final_data)"
      ],
      "metadata": {
        "id": "JjsTG2NvKGOI"
      },
      "execution_count": null,
      "outputs": []
    },
    {
      "cell_type": "code",
      "source": [
        "# Printing cluster centers\n",
        "centers = model.clusterCenters()\n",
        "print(\"Cluster Centers: \")\n",
        "for center in centers:\n",
        "    print(center)"
      ],
      "metadata": {
        "colab": {
          "base_uri": "https://localhost:8080/"
        },
        "id": "d8jwgVcqKcts",
        "outputId": "9f92d14c-557b-48f8-d8a8-2b53401731e4"
      },
      "execution_count": null,
      "outputs": [
        {
          "output_type": "stream",
          "name": "stdout",
          "text": [
            "Cluster Centers: \n",
            "[ 4.91589737 10.9321157  37.2641905  12.39722305  8.58688868  1.77370551\n",
            " 10.37323607]\n",
            "[ 6.3407095  12.39263108 37.41143125 13.92892299  9.77251635  2.42396744\n",
            " 12.28547936]\n",
            "[ 4.06818854 10.13938448 35.87110297 11.81191124  7.52564313  3.24586152\n",
            " 10.40780927]\n"
          ]
        }
      ]
    },
    {
      "cell_type": "code",
      "source": [
        "predictions.select('prediction').show(5)"
      ],
      "metadata": {
        "colab": {
          "base_uri": "https://localhost:8080/"
        },
        "id": "8lO4kHqIKfjn",
        "outputId": "f99d3ead-fdae-401d-b7b2-8c95b0f1fd2f"
      },
      "execution_count": null,
      "outputs": [
        {
          "output_type": "stream",
          "name": "stdout",
          "text": [
            "+----------+\n",
            "|prediction|\n",
            "+----------+\n",
            "|         0|\n",
            "|         0|\n",
            "|         0|\n",
            "|         0|\n",
            "|         0|\n",
            "+----------+\n",
            "only showing top 5 rows\n",
            "\n"
          ]
        }
      ]
    },
    {
      "cell_type": "code",
      "source": [
        "#End Session\n",
        "spark.stop()"
      ],
      "metadata": {
        "id": "f61sPKzAKjJz"
      },
      "execution_count": null,
      "outputs": []
    }
  ]
}