{
  "nbformat": 4,
  "nbformat_minor": 0,
  "metadata": {
    "colab": {
      "provenance": []
    },
    "kernelspec": {
      "name": "python3",
      "display_name": "Python 3"
    },
    "language_info": {
      "name": "python"
    }
  },
  "cells": [
    {
      "cell_type": "code",
      "execution_count": null,
      "metadata": {
        "colab": {
          "base_uri": "https://localhost:8080/"
        },
        "id": "UdEV66_zOh48",
        "outputId": "540c8226-6b54-469d-c03a-13b73bfab558"
      },
      "outputs": [
        {
          "output_type": "stream",
          "name": "stdout",
          "text": [
            "Collecting pyspark\n",
            "  Downloading pyspark-3.5.0.tar.gz (316.9 MB)\n",
            "\u001b[2K     \u001b[90m━━━━━━━━━━━━━━━━━━━━━━━━━━━━━━━━━━━━━━━━\u001b[0m \u001b[32m316.9/316.9 MB\u001b[0m \u001b[31m4.1 MB/s\u001b[0m eta \u001b[36m0:00:00\u001b[0m\n",
            "\u001b[?25h  Preparing metadata (setup.py) ... \u001b[?25l\u001b[?25hdone\n",
            "Requirement already satisfied: py4j==0.10.9.7 in /usr/local/lib/python3.10/dist-packages (from pyspark) (0.10.9.7)\n",
            "Building wheels for collected packages: pyspark\n",
            "  Building wheel for pyspark (setup.py) ... \u001b[?25l\u001b[?25hdone\n",
            "  Created wheel for pyspark: filename=pyspark-3.5.0-py2.py3-none-any.whl size=317425344 sha256=53282806de4b1538602c15fa5df7694324543d64b0c8c3b7281e6cd7314bdd8b\n",
            "  Stored in directory: /root/.cache/pip/wheels/41/4e/10/c2cf2467f71c678cfc8a6b9ac9241e5e44a01940da8fbb17fc\n",
            "Successfully built pyspark\n",
            "Installing collected packages: pyspark\n",
            "Successfully installed pyspark-3.5.0\n"
          ]
        }
      ],
      "source": [
        "pip install pyspark"
      ]
    },
    {
      "cell_type": "code",
      "source": [
        "# Import necessary PySpark libraries\n",
        "from pyspark.sql import SparkSession"
      ],
      "metadata": {
        "id": "1rWjWEm7Oi_U"
      },
      "execution_count": null,
      "outputs": []
    },
    {
      "cell_type": "code",
      "source": [
        "# Create a Spark session\n",
        "spark = SparkSession.builder.appName(\"DataSetProcessing\").getOrCreate()"
      ],
      "metadata": {
        "id": "MMcl3e-cOnTC"
      },
      "execution_count": null,
      "outputs": []
    },
    {
      "cell_type": "code",
      "source": [
        "# Load the CSV file into a DataFrame\n",
        "data = spark.read.csv(\"irisC.csv\", header=True, inferSchema=True)"
      ],
      "metadata": {
        "id": "hJOFnAQYNF42"
      },
      "execution_count": null,
      "outputs": []
    },
    {
      "cell_type": "code",
      "source": [
        "# Show the first few rows of the dataset\n",
        "data.show()"
      ],
      "metadata": {
        "colab": {
          "base_uri": "https://localhost:8080/"
        },
        "id": "gu8JpnF5NPXp",
        "outputId": "45a68e6d-4337-4001-8503-ad703a05df9d"
      },
      "execution_count": null,
      "outputs": [
        {
          "output_type": "stream",
          "name": "stdout",
          "text": [
            "+------------+-----------+-----------+\n",
            "|Sepal Length|Sepal Width|    Species|\n",
            "+------------+-----------+-----------+\n",
            "|         5.1|        3.5|Iris-setosa|\n",
            "|         4.9|        3.0|Iris-setosa|\n",
            "|         4.7|        3.2|Iris-setosa|\n",
            "|         4.6|        3.1|Iris-setosa|\n",
            "|         5.0|        3.6|Iris-setosa|\n",
            "|         5.4|        3.9|Iris-setosa|\n",
            "|         4.6|        3.4|Iris-setosa|\n",
            "|         5.0|        3.4|Iris-setosa|\n",
            "|         4.4|        2.9|Iris-setosa|\n",
            "|         4.9|        3.1|Iris-setosa|\n",
            "|         5.4|        3.7|Iris-setosa|\n",
            "|         4.8|        3.4|Iris-setosa|\n",
            "|         4.8|        3.0|Iris-setosa|\n",
            "|         4.3|        3.0|Iris-setosa|\n",
            "|         5.8|        4.0|Iris-setosa|\n",
            "|         5.7|        4.4|Iris-setosa|\n",
            "|         5.4|        3.9|Iris-setosa|\n",
            "|         5.1|        3.5|Iris-setosa|\n",
            "|         5.7|        3.8|Iris-setosa|\n",
            "|         5.1|        3.8|Iris-setosa|\n",
            "+------------+-----------+-----------+\n",
            "only showing top 20 rows\n",
            "\n"
          ]
        }
      ]
    },
    {
      "cell_type": "code",
      "source": [
        "# Filter the dataset based on a condition\n",
        "filtered_data = data.filter(data['Sepal Length']>5)"
      ],
      "metadata": {
        "id": "aW9OqtJlO6Aa"
      },
      "execution_count": null,
      "outputs": []
    },
    {
      "cell_type": "code",
      "source": [
        "# Show the filtered data\n",
        "filtered_data.show()"
      ],
      "metadata": {
        "colab": {
          "base_uri": "https://localhost:8080/"
        },
        "id": "7SXtAjc2PENR",
        "outputId": "165eddca-d98c-4a29-bb07-f9e8c21771b4"
      },
      "execution_count": null,
      "outputs": [
        {
          "output_type": "stream",
          "name": "stdout",
          "text": [
            "+------------+-----------+-----------+\n",
            "|Sepal Length|Sepal Width|    Species|\n",
            "+------------+-----------+-----------+\n",
            "|         5.1|        3.5|Iris-setosa|\n",
            "|         5.4|        3.9|Iris-setosa|\n",
            "|         5.4|        3.7|Iris-setosa|\n",
            "|         5.8|        4.0|Iris-setosa|\n",
            "|         5.7|        4.4|Iris-setosa|\n",
            "|         5.4|        3.9|Iris-setosa|\n",
            "|         5.1|        3.5|Iris-setosa|\n",
            "|         5.7|        3.8|Iris-setosa|\n",
            "|         5.1|        3.8|Iris-setosa|\n",
            "|         5.4|        3.4|Iris-setosa|\n",
            "|         5.1|        3.7|Iris-setosa|\n",
            "|         5.1|        3.3|Iris-setosa|\n",
            "|         5.2|        3.5|Iris-setosa|\n",
            "|         5.2|        3.4|Iris-setosa|\n",
            "|         5.4|        3.4|Iris-setosa|\n",
            "|         5.2|        4.1|Iris-setosa|\n",
            "|         5.5|        4.2|Iris-setosa|\n",
            "|         5.5|        3.5|Iris-setosa|\n",
            "|         5.1|        3.4|Iris-setosa|\n",
            "|         5.1|        3.8|Iris-setosa|\n",
            "+------------+-----------+-----------+\n",
            "only showing top 20 rows\n",
            "\n"
          ]
        }
      ]
    },
    {
      "cell_type": "code",
      "source": [
        "# Show the filtered data\n",
        "filtered_data.show()"
      ],
      "metadata": {
        "colab": {
          "base_uri": "https://localhost:8080/"
        },
        "id": "geK9AFqqPHgZ",
        "outputId": "fe127702-bbfd-4e9f-dad1-3daaf3854935"
      },
      "execution_count": null,
      "outputs": [
        {
          "output_type": "stream",
          "name": "stdout",
          "text": [
            "+------------+-----------+-----------+\n",
            "|Sepal Length|Sepal Width|    Species|\n",
            "+------------+-----------+-----------+\n",
            "|         5.1|        3.5|Iris-setosa|\n",
            "|         5.4|        3.9|Iris-setosa|\n",
            "|         5.4|        3.7|Iris-setosa|\n",
            "|         5.8|        4.0|Iris-setosa|\n",
            "|         5.7|        4.4|Iris-setosa|\n",
            "|         5.4|        3.9|Iris-setosa|\n",
            "|         5.1|        3.5|Iris-setosa|\n",
            "|         5.7|        3.8|Iris-setosa|\n",
            "|         5.1|        3.8|Iris-setosa|\n",
            "|         5.4|        3.4|Iris-setosa|\n",
            "|         5.1|        3.7|Iris-setosa|\n",
            "|         5.1|        3.3|Iris-setosa|\n",
            "|         5.2|        3.5|Iris-setosa|\n",
            "|         5.2|        3.4|Iris-setosa|\n",
            "|         5.4|        3.4|Iris-setosa|\n",
            "|         5.2|        4.1|Iris-setosa|\n",
            "|         5.5|        4.2|Iris-setosa|\n",
            "|         5.5|        3.5|Iris-setosa|\n",
            "|         5.1|        3.4|Iris-setosa|\n",
            "|         5.1|        3.8|Iris-setosa|\n",
            "+------------+-----------+-----------+\n",
            "only showing top 20 rows\n",
            "\n"
          ]
        }
      ]
    },
    {
      "cell_type": "code",
      "source": [
        "# Perform some basic aggregation, e.g., calculating the average age\n",
        "average_age = data.agg({'Sepal Length': 'avg'})\n",
        "average_age.show()"
      ],
      "metadata": {
        "colab": {
          "base_uri": "https://localhost:8080/"
        },
        "id": "wcFUDqDdPLaK",
        "outputId": "4560e202-b5d8-4cee-eafa-03f65315459b"
      },
      "execution_count": null,
      "outputs": [
        {
          "output_type": "stream",
          "name": "stdout",
          "text": [
            "+-----------------+\n",
            "|avg(Sepal Length)|\n",
            "+-----------------+\n",
            "|5.843333333333335|\n",
            "+-----------------+\n",
            "\n"
          ]
        }
      ]
    },
    {
      "cell_type": "code",
      "source": [
        "# Save the filtered data to a new CSV file\n",
        "filtered_data.write.csv(\"filtered_data.csv\", header=True)"
      ],
      "metadata": {
        "id": "0HtyzDLyPRVo"
      },
      "execution_count": null,
      "outputs": []
    },
    {
      "cell_type": "code",
      "source": [
        "# Stop the Spark session when you're done\n",
        "spark.stop()"
      ],
      "metadata": {
        "id": "NrtEzjiIPaTp"
      },
      "execution_count": null,
      "outputs": []
    }
  ]
}