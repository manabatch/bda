{
  "nbformat": 4,
  "nbformat_minor": 0,
  "metadata": {
    "colab": {
      "provenance": []
    },
    "kernelspec": {
      "name": "python3",
      "display_name": "Python 3"
    },
    "language_info": {
      "name": "python"
    }
  },
  "cells": [
    {
      "cell_type": "code",
      "source": [
        "pip install pyspark"
      ],
      "metadata": {
        "colab": {
          "base_uri": "https://localhost:8080/"
        },
        "id": "ACNeg0G23ZNu",
        "outputId": "4bb564e1-e5d3-40a0-a2e5-c621cb395611"
      },
      "execution_count": null,
      "outputs": [
        {
          "output_type": "stream",
          "name": "stdout",
          "text": [
            "Collecting pyspark\n",
            "  Downloading pyspark-3.5.0.tar.gz (316.9 MB)\n",
            "\u001b[2K     \u001b[90m━━━━━━━━━━━━━━━━━━━━━━━━━━━━━━━━━━━━━━━\u001b[0m \u001b[32m316.9/316.9 MB\u001b[0m \u001b[31m3.6 MB/s\u001b[0m eta \u001b[36m0:00:00\u001b[0m\n",
            "\u001b[?25h  Preparing metadata (setup.py) ... \u001b[?25l\u001b[?25hdone\n",
            "Requirement already satisfied: py4j==0.10.9.7 in /usr/local/lib/python3.10/dist-packages (from pyspark) (0.10.9.7)\n",
            "Building wheels for collected packages: pyspark\n",
            "  Building wheel for pyspark (setup.py) ... \u001b[?25l\u001b[?25hdone\n",
            "  Created wheel for pyspark: filename=pyspark-3.5.0-py2.py3-none-any.whl size=317425344 sha256=f17fdcbab58b5a988d6d3f3fea3ea72ea82bd755e572adbbb40ecf761d1828c6\n",
            "  Stored in directory: /root/.cache/pip/wheels/41/4e/10/c2cf2467f71c678cfc8a6b9ac9241e5e44a01940da8fbb17fc\n",
            "Successfully built pyspark\n",
            "Installing collected packages: pyspark\n",
            "Successfully installed pyspark-3.5.0\n"
          ]
        }
      ]
    },
    {
      "cell_type": "code",
      "execution_count": null,
      "metadata": {
        "colab": {
          "base_uri": "https://localhost:8080/"
        },
        "id": "y5RllPzQ3NYo",
        "outputId": "aa323f5d-edcc-4049-e2d2-b93a3bbb0f38"
      },
      "outputs": [
        {
          "output_type": "stream",
          "name": "stdout",
          "text": [
            "+---+-----+---+-----+\n",
            "| id|value| id|value|\n",
            "+---+-----+---+-----+\n",
            "|  1|    a|  1|    A|\n",
            "|  1|    a|  2|    B|\n",
            "|  1|    a|  3|    C|\n",
            "|  2|    b|  1|    A|\n",
            "|  2|    b|  2|    B|\n",
            "|  2|    b|  3|    C|\n",
            "|  3|    c|  1|    A|\n",
            "|  3|    c|  2|    B|\n",
            "|  3|    c|  3|    C|\n",
            "+---+-----+---+-----+\n",
            "\n"
          ]
        }
      ],
      "source": [
        "from pyspark.sql import SparkSession\n",
        "from pyspark.sql.functions import broadcast\n",
        "\n",
        "# Create a SparkSession\n",
        "spark = SparkSession.builder.appName(\"Map-side join example\").getOrCreate()\n",
        "\n",
        "# Create two DataFrames\n",
        "df1 = spark.createDataFrame([(1, \"a\"), (2, \"b\"), (3, \"c\")], [\"id\", \"value\"])\n",
        "df2 = spark.createDataFrame([(1, \"A\"), (2, \"B\"), (3, \"C\")], [\"id\", \"value\"])\n",
        "\n",
        "# Broadcast one of the DataFrames\n",
        "broadcast_df = broadcast(df2)\n",
        "\n",
        "# Perform the join\n",
        "result = df1.join(broadcast(broadcast_df))\n",
        "\n",
        "# Show the result\n",
        "result.show()\n"
      ]
    },
    {
      "cell_type": "code",
      "source": [
        "left_list = [{'id': 1, 'name': 'Alice'}, {'id': 2, 'name': 'Bob'}, {'id': 3, 'name': 'Charlie'}]\n",
        "right_list = [{'id': 2, 'age': 30}, {'id': 3, 'age': 25}, {'id': 4, 'age': 40}]\n",
        "\n",
        "result = [{**left, **next((right for right in right_list if right['id'] == left['id']), {})} for left in left_list]\n",
        "for l in result:\n",
        "  print(l,\"\\n\")"
      ],
      "metadata": {
        "colab": {
          "base_uri": "https://localhost:8080/"
        },
        "id": "bXK90Xko7zHH",
        "outputId": "efd817df-e885-4e4f-af24-c5d10860927a"
      },
      "execution_count": null,
      "outputs": [
        {
          "output_type": "stream",
          "name": "stdout",
          "text": [
            "{'id': 1, 'name': 'Alice'} \n",
            "\n",
            "{'id': 2, 'name': 'Bob', 'age': 30} \n",
            "\n",
            "{'id': 3, 'name': 'Charlie', 'age': 25} \n",
            "\n"
          ]
        }
      ]
    }
  ]
}